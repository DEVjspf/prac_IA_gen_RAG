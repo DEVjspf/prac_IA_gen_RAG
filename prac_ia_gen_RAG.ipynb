{
  "nbformat": 4,
  "nbformat_minor": 0,
  "metadata": {
    "colab": {
      "provenance": [],
      "gpuType": "T4",
      "include_colab_link": true
    },
    "kernelspec": {
      "name": "python3",
      "display_name": "Python 3"
    },
    "language_info": {
      "name": "python"
    },
    "accelerator": "GPU"
  },
  "cells": [
    {
      "cell_type": "markdown",
      "metadata": {
        "id": "view-in-github",
        "colab_type": "text"
      },
      "source": [
        "<a href=\"https://colab.research.google.com/github/DEVjspf/prac_IA_gen_RAG/blob/main/prac_ia_gen_RAG.ipynb\" target=\"_parent\"><img src=\"https://colab.research.google.com/assets/colab-badge.svg\" alt=\"Open In Colab\"/></a>"
      ]
    },
    {
      "cell_type": "markdown",
      "source": [
        "# ASISTENTE IA QUE RESPONDE TUS CONSULTAS DIRECTAMENTE DESDE DOCUMENTOS PDFs"
      ],
      "metadata": {
        "id": "YXh3phjTR-4e"
      }
    },
    {
      "cell_type": "markdown",
      "source": [
        "## 🧩 Instalación de dependencias necesarias"
      ],
      "metadata": {
        "id": "ANNEwWivR2yj"
      }
    },
    {
      "cell_type": "code",
      "source": [
        "!pip install pypdf gradio faiss-cpu"
      ],
      "metadata": {
        "collapsed": true,
        "id": "7_zzkWbgEYrG",
        "colab": {
          "base_uri": "https://localhost:8080/"
        },
        "outputId": "f5f02816-90fb-47a6-c8bb-2ace9cb5110c"
      },
      "execution_count": 1,
      "outputs": [
        {
          "output_type": "stream",
          "name": "stdout",
          "text": [
            "Collecting pypdf\n",
            "  Downloading pypdf-5.5.0-py3-none-any.whl.metadata (7.2 kB)\n",
            "Collecting gradio\n",
            "  Downloading gradio-5.31.0-py3-none-any.whl.metadata (16 kB)\n",
            "Collecting faiss-cpu\n",
            "  Downloading faiss_cpu-1.11.0-cp311-cp311-manylinux_2_28_x86_64.whl.metadata (4.8 kB)\n",
            "Collecting aiofiles<25.0,>=22.0 (from gradio)\n",
            "  Downloading aiofiles-24.1.0-py3-none-any.whl.metadata (10 kB)\n",
            "Requirement already satisfied: anyio<5.0,>=3.0 in /usr/local/lib/python3.11/dist-packages (from gradio) (4.9.0)\n",
            "Collecting fastapi<1.0,>=0.115.2 (from gradio)\n",
            "  Downloading fastapi-0.115.12-py3-none-any.whl.metadata (27 kB)\n",
            "Collecting ffmpy (from gradio)\n",
            "  Downloading ffmpy-0.5.0-py3-none-any.whl.metadata (3.0 kB)\n",
            "Collecting gradio-client==1.10.1 (from gradio)\n",
            "  Downloading gradio_client-1.10.1-py3-none-any.whl.metadata (7.1 kB)\n",
            "Collecting groovy~=0.1 (from gradio)\n",
            "  Downloading groovy-0.1.2-py3-none-any.whl.metadata (6.1 kB)\n",
            "Requirement already satisfied: httpx>=0.24.1 in /usr/local/lib/python3.11/dist-packages (from gradio) (0.28.1)\n",
            "Requirement already satisfied: huggingface-hub>=0.28.1 in /usr/local/lib/python3.11/dist-packages (from gradio) (0.31.4)\n",
            "Requirement already satisfied: jinja2<4.0 in /usr/local/lib/python3.11/dist-packages (from gradio) (3.1.6)\n",
            "Requirement already satisfied: markupsafe<4.0,>=2.0 in /usr/local/lib/python3.11/dist-packages (from gradio) (3.0.2)\n",
            "Requirement already satisfied: numpy<3.0,>=1.0 in /usr/local/lib/python3.11/dist-packages (from gradio) (2.0.2)\n",
            "Requirement already satisfied: orjson~=3.0 in /usr/local/lib/python3.11/dist-packages (from gradio) (3.10.18)\n",
            "Requirement already satisfied: packaging in /usr/local/lib/python3.11/dist-packages (from gradio) (24.2)\n",
            "Requirement already satisfied: pandas<3.0,>=1.0 in /usr/local/lib/python3.11/dist-packages (from gradio) (2.2.2)\n",
            "Requirement already satisfied: pillow<12.0,>=8.0 in /usr/local/lib/python3.11/dist-packages (from gradio) (11.2.1)\n",
            "Requirement already satisfied: pydantic<2.12,>=2.0 in /usr/local/lib/python3.11/dist-packages (from gradio) (2.11.4)\n",
            "Collecting pydub (from gradio)\n",
            "  Downloading pydub-0.25.1-py2.py3-none-any.whl.metadata (1.4 kB)\n",
            "Collecting python-multipart>=0.0.18 (from gradio)\n",
            "  Downloading python_multipart-0.0.20-py3-none-any.whl.metadata (1.8 kB)\n",
            "Requirement already satisfied: pyyaml<7.0,>=5.0 in /usr/local/lib/python3.11/dist-packages (from gradio) (6.0.2)\n",
            "Collecting ruff>=0.9.3 (from gradio)\n",
            "  Downloading ruff-0.11.12-py3-none-manylinux_2_17_x86_64.manylinux2014_x86_64.whl.metadata (25 kB)\n",
            "Collecting safehttpx<0.2.0,>=0.1.6 (from gradio)\n",
            "  Downloading safehttpx-0.1.6-py3-none-any.whl.metadata (4.2 kB)\n",
            "Collecting semantic-version~=2.0 (from gradio)\n",
            "  Downloading semantic_version-2.10.0-py2.py3-none-any.whl.metadata (9.7 kB)\n",
            "Collecting starlette<1.0,>=0.40.0 (from gradio)\n",
            "  Downloading starlette-0.47.0-py3-none-any.whl.metadata (6.2 kB)\n",
            "Collecting tomlkit<0.14.0,>=0.12.0 (from gradio)\n",
            "  Downloading tomlkit-0.13.2-py3-none-any.whl.metadata (2.7 kB)\n",
            "Requirement already satisfied: typer<1.0,>=0.12 in /usr/local/lib/python3.11/dist-packages (from gradio) (0.15.3)\n",
            "Requirement already satisfied: typing-extensions~=4.0 in /usr/local/lib/python3.11/dist-packages (from gradio) (4.13.2)\n",
            "Collecting uvicorn>=0.14.0 (from gradio)\n",
            "  Downloading uvicorn-0.34.2-py3-none-any.whl.metadata (6.5 kB)\n",
            "Requirement already satisfied: fsspec in /usr/local/lib/python3.11/dist-packages (from gradio-client==1.10.1->gradio) (2025.3.2)\n",
            "Requirement already satisfied: websockets<16.0,>=10.0 in /usr/local/lib/python3.11/dist-packages (from gradio-client==1.10.1->gradio) (15.0.1)\n",
            "Requirement already satisfied: idna>=2.8 in /usr/local/lib/python3.11/dist-packages (from anyio<5.0,>=3.0->gradio) (3.10)\n",
            "Requirement already satisfied: sniffio>=1.1 in /usr/local/lib/python3.11/dist-packages (from anyio<5.0,>=3.0->gradio) (1.3.1)\n",
            "Collecting starlette<1.0,>=0.40.0 (from gradio)\n",
            "  Downloading starlette-0.46.2-py3-none-any.whl.metadata (6.2 kB)\n",
            "Requirement already satisfied: certifi in /usr/local/lib/python3.11/dist-packages (from httpx>=0.24.1->gradio) (2025.4.26)\n",
            "Requirement already satisfied: httpcore==1.* in /usr/local/lib/python3.11/dist-packages (from httpx>=0.24.1->gradio) (1.0.9)\n",
            "Requirement already satisfied: h11>=0.16 in /usr/local/lib/python3.11/dist-packages (from httpcore==1.*->httpx>=0.24.1->gradio) (0.16.0)\n",
            "Requirement already satisfied: filelock in /usr/local/lib/python3.11/dist-packages (from huggingface-hub>=0.28.1->gradio) (3.18.0)\n",
            "Requirement already satisfied: requests in /usr/local/lib/python3.11/dist-packages (from huggingface-hub>=0.28.1->gradio) (2.32.3)\n",
            "Requirement already satisfied: tqdm>=4.42.1 in /usr/local/lib/python3.11/dist-packages (from huggingface-hub>=0.28.1->gradio) (4.67.1)\n",
            "Requirement already satisfied: python-dateutil>=2.8.2 in /usr/local/lib/python3.11/dist-packages (from pandas<3.0,>=1.0->gradio) (2.9.0.post0)\n",
            "Requirement already satisfied: pytz>=2020.1 in /usr/local/lib/python3.11/dist-packages (from pandas<3.0,>=1.0->gradio) (2025.2)\n",
            "Requirement already satisfied: tzdata>=2022.7 in /usr/local/lib/python3.11/dist-packages (from pandas<3.0,>=1.0->gradio) (2025.2)\n",
            "Requirement already satisfied: annotated-types>=0.6.0 in /usr/local/lib/python3.11/dist-packages (from pydantic<2.12,>=2.0->gradio) (0.7.0)\n",
            "Requirement already satisfied: pydantic-core==2.33.2 in /usr/local/lib/python3.11/dist-packages (from pydantic<2.12,>=2.0->gradio) (2.33.2)\n",
            "Requirement already satisfied: typing-inspection>=0.4.0 in /usr/local/lib/python3.11/dist-packages (from pydantic<2.12,>=2.0->gradio) (0.4.1)\n",
            "Requirement already satisfied: click>=8.0.0 in /usr/local/lib/python3.11/dist-packages (from typer<1.0,>=0.12->gradio) (8.2.1)\n",
            "Requirement already satisfied: shellingham>=1.3.0 in /usr/local/lib/python3.11/dist-packages (from typer<1.0,>=0.12->gradio) (1.5.4)\n",
            "Requirement already satisfied: rich>=10.11.0 in /usr/local/lib/python3.11/dist-packages (from typer<1.0,>=0.12->gradio) (13.9.4)\n",
            "Requirement already satisfied: six>=1.5 in /usr/local/lib/python3.11/dist-packages (from python-dateutil>=2.8.2->pandas<3.0,>=1.0->gradio) (1.17.0)\n",
            "Requirement already satisfied: markdown-it-py>=2.2.0 in /usr/local/lib/python3.11/dist-packages (from rich>=10.11.0->typer<1.0,>=0.12->gradio) (3.0.0)\n",
            "Requirement already satisfied: pygments<3.0.0,>=2.13.0 in /usr/local/lib/python3.11/dist-packages (from rich>=10.11.0->typer<1.0,>=0.12->gradio) (2.19.1)\n",
            "Requirement already satisfied: charset-normalizer<4,>=2 in /usr/local/lib/python3.11/dist-packages (from requests->huggingface-hub>=0.28.1->gradio) (3.4.2)\n",
            "Requirement already satisfied: urllib3<3,>=1.21.1 in /usr/local/lib/python3.11/dist-packages (from requests->huggingface-hub>=0.28.1->gradio) (2.4.0)\n",
            "Requirement already satisfied: mdurl~=0.1 in /usr/local/lib/python3.11/dist-packages (from markdown-it-py>=2.2.0->rich>=10.11.0->typer<1.0,>=0.12->gradio) (0.1.2)\n",
            "Downloading pypdf-5.5.0-py3-none-any.whl (303 kB)\n",
            "\u001b[2K   \u001b[90m━━━━━━━━━━━━━━━━━━━━━━━━━━━━━━━━━━━━━━━━\u001b[0m \u001b[32m303.4/303.4 kB\u001b[0m \u001b[31m9.5 MB/s\u001b[0m eta \u001b[36m0:00:00\u001b[0m\n",
            "\u001b[?25hDownloading gradio-5.31.0-py3-none-any.whl (54.2 MB)\n",
            "\u001b[2K   \u001b[90m━━━━━━━━━━━━━━━━━━━━━━━━━━━━━━━━━━━━━━━━\u001b[0m \u001b[32m54.2/54.2 MB\u001b[0m \u001b[31m18.5 MB/s\u001b[0m eta \u001b[36m0:00:00\u001b[0m\n",
            "\u001b[?25hDownloading gradio_client-1.10.1-py3-none-any.whl (323 kB)\n",
            "\u001b[2K   \u001b[90m━━━━━━━━━━━━━━━━━━━━━━━━━━━━━━━━━━━━━━━━\u001b[0m \u001b[32m323.1/323.1 kB\u001b[0m \u001b[31m24.8 MB/s\u001b[0m eta \u001b[36m0:00:00\u001b[0m\n",
            "\u001b[?25hDownloading faiss_cpu-1.11.0-cp311-cp311-manylinux_2_28_x86_64.whl (31.3 MB)\n",
            "\u001b[2K   \u001b[90m━━━━━━━━━━━━━━━━━━━━━━━━━━━━━━━━━━━━━━━━\u001b[0m \u001b[32m31.3/31.3 MB\u001b[0m \u001b[31m33.6 MB/s\u001b[0m eta \u001b[36m0:00:00\u001b[0m\n",
            "\u001b[?25hDownloading aiofiles-24.1.0-py3-none-any.whl (15 kB)\n",
            "Downloading fastapi-0.115.12-py3-none-any.whl (95 kB)\n",
            "\u001b[2K   \u001b[90m━━━━━━━━━━━━━━━━━━━━━━━━━━━━━━━━━━━━━━━━\u001b[0m \u001b[32m95.2/95.2 kB\u001b[0m \u001b[31m7.6 MB/s\u001b[0m eta \u001b[36m0:00:00\u001b[0m\n",
            "\u001b[?25hDownloading groovy-0.1.2-py3-none-any.whl (14 kB)\n",
            "Downloading python_multipart-0.0.20-py3-none-any.whl (24 kB)\n",
            "Downloading ruff-0.11.12-py3-none-manylinux_2_17_x86_64.manylinux2014_x86_64.whl (11.5 MB)\n",
            "\u001b[2K   \u001b[90m━━━━━━━━━━━━━━━━━━━━━━━━━━━━━━━━━━━━━━━━\u001b[0m \u001b[32m11.5/11.5 MB\u001b[0m \u001b[31m49.0 MB/s\u001b[0m eta \u001b[36m0:00:00\u001b[0m\n",
            "\u001b[?25hDownloading safehttpx-0.1.6-py3-none-any.whl (8.7 kB)\n",
            "Downloading semantic_version-2.10.0-py2.py3-none-any.whl (15 kB)\n",
            "Downloading starlette-0.46.2-py3-none-any.whl (72 kB)\n",
            "\u001b[2K   \u001b[90m━━━━━━━━━━━━━━━━━━━━━━━━━━━━━━━━━━━━━━━━\u001b[0m \u001b[32m72.0/72.0 kB\u001b[0m \u001b[31m7.5 MB/s\u001b[0m eta \u001b[36m0:00:00\u001b[0m\n",
            "\u001b[?25hDownloading tomlkit-0.13.2-py3-none-any.whl (37 kB)\n",
            "Downloading uvicorn-0.34.2-py3-none-any.whl (62 kB)\n",
            "\u001b[2K   \u001b[90m━━━━━━━━━━━━━━━━━━━━━━━━━━━━━━━━━━━━━━━━\u001b[0m \u001b[32m62.5/62.5 kB\u001b[0m \u001b[31m6.4 MB/s\u001b[0m eta \u001b[36m0:00:00\u001b[0m\n",
            "\u001b[?25hDownloading ffmpy-0.5.0-py3-none-any.whl (6.0 kB)\n",
            "Downloading pydub-0.25.1-py2.py3-none-any.whl (32 kB)\n",
            "Installing collected packages: pydub, uvicorn, tomlkit, semantic-version, ruff, python-multipart, pypdf, groovy, ffmpy, faiss-cpu, aiofiles, starlette, safehttpx, gradio-client, fastapi, gradio\n",
            "Successfully installed aiofiles-24.1.0 faiss-cpu-1.11.0 fastapi-0.115.12 ffmpy-0.5.0 gradio-5.31.0 gradio-client-1.10.1 groovy-0.1.2 pydub-0.25.1 pypdf-5.5.0 python-multipart-0.0.20 ruff-0.11.12 safehttpx-0.1.6 semantic-version-2.10.0 starlette-0.46.2 tomlkit-0.13.2 uvicorn-0.34.2\n"
          ]
        }
      ]
    },
    {
      "cell_type": "markdown",
      "source": [
        "## 📦 Importación de librerías y módulos necesarios"
      ],
      "metadata": {
        "id": "qLZF4AjWSi5c"
      }
    },
    {
      "cell_type": "code",
      "execution_count": 2,
      "metadata": {
        "id": "0BhToD0WDqEF"
      },
      "outputs": [],
      "source": [
        "import os\n",
        "import shutil\n",
        "from pypdf import PdfReader\n",
        "from sentence_transformers import SentenceTransformer\n",
        "import gradio as gr\n",
        "from transformers import AutoModelForCausalLM, AutoTokenizer, pipeline\n",
        "import faiss\n",
        "import requests"
      ]
    },
    {
      "cell_type": "markdown",
      "source": [
        "## 🧠 Inicialización de estructuras para fragmentos y FAISS"
      ],
      "metadata": {
        "id": "3WwrKLAVSrFa"
      }
    },
    {
      "cell_type": "code",
      "source": [
        "# Diccionario para guardar los fragmentos con sus metadatos\n",
        "fragmentos_indexados = []\n",
        "index_faiss = None"
      ],
      "metadata": {
        "id": "ol34keZwDueT"
      },
      "execution_count": 3,
      "outputs": []
    },
    {
      "cell_type": "markdown",
      "source": [
        "## ⚙️ Configuración de constantes del sistema"
      ],
      "metadata": {
        "id": "c5_mtlyaSxwO"
      }
    },
    {
      "cell_type": "code",
      "source": [
        "if not os.path.exists(\"data/PDF\"):\n",
        "    os.makedirs(\"data/PDF\")"
      ],
      "metadata": {
        "id": "6ckxV6kIxlbM"
      },
      "execution_count": 4,
      "outputs": []
    },
    {
      "cell_type": "code",
      "source": [
        "RUTA_PDFS = \"data/PDF\"\n",
        "MODELO_EMBEDDINGS = \"all-MiniLM-L6-v2\"\n",
        "MODELO_LLM = \"mistralai/Mixtral-8x7B-Instruct-v0.1\"\n",
        "os.environ[\"TOGETHER_API_KEY\"] = \"tgp_v1_PHdIPUdwUiD4Br7N3HjeZbxeNJuEdTRpW9LrfkFWZe8\""
      ],
      "metadata": {
        "id": "aUSCM1gvFsYG"
      },
      "execution_count": 5,
      "outputs": []
    },
    {
      "cell_type": "markdown",
      "source": [
        "## 🧹 Función para limpiar datos anteriores y preparar carpeta de trabajo"
      ],
      "metadata": {
        "id": "LRsZOtMjS9IH"
      }
    },
    {
      "cell_type": "code",
      "source": [
        "def limpiar_datos_anteriores():\n",
        "\n",
        "    # Limpiar la carpeta de los PDFs\n",
        "    if os.path.exists(RUTA_PDFS):\n",
        "        shutil.rmtree(RUTA_PDFS)\n",
        "    os.makedirs(RUTA_PDFS, exist_ok=True)\n",
        "\n",
        "    print(\"Datos anteriores eliminados completamente.\")"
      ],
      "metadata": {
        "id": "OYszO6TAJJk0"
      },
      "execution_count": 6,
      "outputs": []
    },
    {
      "cell_type": "markdown",
      "source": [
        "## 📄 Función para extraer texto de un PDF página por página"
      ],
      "metadata": {
        "id": "hM-c3-VMTDDN"
      }
    },
    {
      "cell_type": "code",
      "source": [
        "def extraer_texto_pdf(ruta_pdf):\n",
        "    lector = PdfReader(ruta_pdf)\n",
        "    nombre_archivo = os.path.basename(ruta_pdf)\n",
        "    texto_paginas = []\n",
        "    for num_pagina, pagina in enumerate(lector.pages):\n",
        "        texto = pagina.extract_text()\n",
        "        if texto:\n",
        "            texto_paginas.append({\n",
        "                \"texto\": texto,\n",
        "                \"pagina\": num_pagina + 1,\n",
        "                \"fuente\": nombre_archivo\n",
        "            })\n",
        "    return texto_paginas"
      ],
      "metadata": {
        "id": "4vZVlOq0G9l2"
      },
      "execution_count": 7,
      "outputs": []
    },
    {
      "cell_type": "markdown",
      "source": [
        "## 📥 Función para cargar y procesar todos los PDFs desde una carpeta"
      ],
      "metadata": {
        "id": "PH06qbhfTK3h"
      }
    },
    {
      "cell_type": "code",
      "source": [
        "def cargar_documentos(ruta_carpeta):\n",
        "    todos_fragmentos = []\n",
        "    for archivo in os.listdir(ruta_carpeta):\n",
        "        if archivo.endswith(\".pdf\"):\n",
        "            ruta_pdf = os.path.join(ruta_carpeta, archivo)\n",
        "            fragmentos = extraer_texto_pdf(ruta_pdf)\n",
        "            todos_fragmentos.extend(fragmentos)\n",
        "    return todos_fragmentos"
      ],
      "metadata": {
        "id": "Yl4xQfhRHQSw"
      },
      "execution_count": 8,
      "outputs": []
    },
    {
      "cell_type": "markdown",
      "source": [
        "## 🔍 Función para indexar fragmentos de texto con FAISS y generar embeddings"
      ],
      "metadata": {
        "id": "bqolp0QtTSm4"
      }
    },
    {
      "cell_type": "code",
      "source": [
        "def indexar_fragmentos_faiss(fragmentos, modelo_embedding):\n",
        "    global fragmentos_indexados, index_faiss\n",
        "\n",
        "    if not fragmentos:\n",
        "        print(\"⚠️ No hay fragmentos para indexar.\")\n",
        "        return\n",
        "\n",
        "    print(\"🧠 Generando embeddings...\")\n",
        "    textos = [f[\"texto\"] for f in fragmentos]\n",
        "    embeddings = modelo_embedding.encode(textos, convert_to_numpy=True, normalize_embeddings=True)\n",
        "\n",
        "    print(\"📦 Creando índice FAISS...\")\n",
        "    dim = embeddings.shape[1]\n",
        "    index_faiss = faiss.IndexFlatIP(dim)\n",
        "    index_faiss.add(embeddings)\n",
        "\n",
        "    fragmentos_indexados = fragmentos\n",
        "    print(f\"✅ Se indexaron {len(fragmentos)} fragmentos.\")"
      ],
      "metadata": {
        "id": "RTKn6Hr2Hchb"
      },
      "execution_count": 9,
      "outputs": []
    },
    {
      "cell_type": "markdown",
      "source": [
        "## 🧠 Función para buscar contexto relevante en el índice FAISS"
      ],
      "metadata": {
        "id": "4VTEXHFdTYRv"
      }
    },
    {
      "cell_type": "code",
      "source": [
        "def buscar_contexto_faiss(pregunta, modelo_embedding, k=3):\n",
        "    if index_faiss is None:\n",
        "        return \"⚠️ No hay índice FAISS disponible.\", []\n",
        "\n",
        "    embedding_pregunta = modelo_embedding.encode([pregunta], convert_to_numpy=True, normalize_embeddings=True)\n",
        "    distancias, indices = index_faiss.search(embedding_pregunta, k)\n",
        "\n",
        "    chunks = []\n",
        "    referencias = []\n",
        "    for idx in indices[0]:\n",
        "        frag = fragmentos_indexados[idx]\n",
        "        ref = f\"{frag['fuente']} - página {frag['pagina']}\"\n",
        "        referencias.append(ref)\n",
        "        chunks.append(f\"[{ref}]:\\n{frag['texto']}\")\n",
        "\n",
        "    return \"\\n\\n\".join(chunks), referencias"
      ],
      "metadata": {
        "id": "y1TXdVPGHXth"
      },
      "execution_count": 10,
      "outputs": []
    },
    {
      "cell_type": "markdown",
      "source": [
        "## 🤖 Carga local del modelo LLM desde Hugging Face (no se usa directamente en la demo final)"
      ],
      "metadata": {
        "id": "4JqVM_z1TneI"
      }
    },
    {
      "cell_type": "code",
      "source": [
        "def cargar_modelo_llm():\n",
        "    tokenizer = AutoTokenizer.from_pretrained(\n",
        "        MODELO_LLM,\n",
        "        token=os.environ[\"HUGGINGFACE_TOKEN\"],\n",
        "        trust_remote_code=True\n",
        "    )\n",
        "    modelo = AutoModelForCausalLM.from_pretrained(\n",
        "        MODELO_LLM,\n",
        "        device_map=\"auto\",\n",
        "        token=os.environ[\"HUGGINGFACE_TOKEN\"],\n",
        "        trust_remote_code=True\n",
        "    )\n",
        "    generador = pipeline(\"text-generation\", model=modelo, tokenizer=tokenizer)\n",
        "    return generador"
      ],
      "metadata": {
        "id": "fXr9OsAEICl4"
      },
      "execution_count": 11,
      "outputs": []
    },
    {
      "cell_type": "markdown",
      "source": [
        "## ✉️ Función para generar respuesta vía API de Together utilizando contexto relevante"
      ],
      "metadata": {
        "id": "_Y3o5DVKTd-N"
      }
    },
    {
      "cell_type": "code",
      "source": [
        "def responder_pregunta_con_together(pregunta):\n",
        "    contexto, referencias = buscar_contexto_faiss(pregunta, modelo_embedding)\n",
        "\n",
        "    if not contexto:\n",
        "        return \"No se encontró información relevante en los documentos cargados.\"\n",
        "\n",
        "    prompt = f\"\"\"Contesta la siguiente pregunta usando solo la información proporcionada en el contexto.\n",
        "Si no está en el contexto, responde que no tienes suficiente información. Responde en español. Por cada referencia\n",
        "añade el documento y la página.\n",
        "\n",
        "Contexto:\n",
        "{contexto}\n",
        "\n",
        "Pregunta: {pregunta}\n",
        "Respuesta:\"\"\"\n",
        "\n",
        "    response = requests.post(\n",
        "        \"https://api.together.xyz/v1/chat/completions\",\n",
        "        headers={\n",
        "            \"Authorization\": f\"Bearer {os.environ['TOGETHER_API_KEY']}\",\n",
        "            \"Content-Type\": \"application/json\"\n",
        "        },\n",
        "        json={\n",
        "            \"model\": \"mistralai/Mixtral-8x7B-Instruct-v0.1\",\n",
        "            \"messages\": [{\"role\": \"user\", \"content\": prompt}],\n",
        "            \"temperature\": 0.3,\n",
        "            \"max_tokens\": 512\n",
        "        }\n",
        "    )\n",
        "\n",
        "    if response.status_code == 200:\n",
        "        resultado = response.json()\n",
        "        respuesta = resultado[\"choices\"][0][\"message\"][\"content\"]\n",
        "        referencias_unicas = list(set(referencias))\n",
        "        citas = \"\\n\\n📚 **Fuentes consultadas:**\\n\" + \"\\n\".join(f\"- {ref}\" for ref in referencias_unicas)\n",
        "        return respuesta + citas\n",
        "    else:\n",
        "        return f\"Error al generar respuesta: {response.status_code} - {response.text}\""
      ],
      "metadata": {
        "id": "Cy5bC-8oIKJu"
      },
      "execution_count": 12,
      "outputs": []
    },
    {
      "cell_type": "markdown",
      "source": [
        "## 🧪 Función principal que ejecuta todo el flujo desde carga de PDFs hasta generación de respuesta"
      ],
      "metadata": {
        "id": "OOS3HamBXTn9"
      }
    },
    {
      "cell_type": "code",
      "source": [
        "def interfaz_gradio(pdfs, pregunta):\n",
        "    try:\n",
        "        print(\"🧹 Limpiando datos anteriores...\")\n",
        "        limpiar_datos_anteriores()\n",
        "        os.makedirs(RUTA_PDFS, exist_ok=True)\n",
        "\n",
        "        for pdf in pdfs:\n",
        "            if isinstance(pdf, str):\n",
        "                nombre_archivo = os.path.basename(pdf)\n",
        "                ruta_destino = os.path.join(RUTA_PDFS, nombre_archivo)\n",
        "\n",
        "                # Evita copiar si ya está en el destino\n",
        "                if os.path.abspath(pdf) != os.path.abspath(ruta_destino):\n",
        "                    shutil.copy(pdf, ruta_destino)\n",
        "            else:\n",
        "                ruta_destino = os.path.join(RUTA_PDFS, pdf.name)\n",
        "                with open(ruta_destino, \"wb\") as f:\n",
        "                    f.write(pdf.read())\n",
        "\n",
        "        print(\"✅ PDFs cargados.\")\n",
        "\n",
        "        fragmentos = cargar_documentos(RUTA_PDFS)\n",
        "        print(f\"🧠 Fragmentos cargados: {len(fragmentos)}\")\n",
        "\n",
        "        #indexar_fragmentos(fragmentos, cliente_chroma, modelo_embedding)\n",
        "        indexar_fragmentos_faiss(fragmentos, modelo_embedding)\n",
        "        print(\"📦 Embeddings indexados.\")\n",
        "\n",
        "        respuesta = responder_pregunta_con_together(pregunta)\n",
        "        print(\"✅ Respuesta generada.\")\n",
        "        return respuesta\n",
        "    except Exception as e:\n",
        "        print(\"❌ Error detectado:\", str(e))\n",
        "        return f\"Error: {str(e)}\""
      ],
      "metadata": {
        "id": "JsQf7Oq8Wr2c"
      },
      "execution_count": 13,
      "outputs": []
    },
    {
      "cell_type": "markdown",
      "source": [
        "## 💻 Configuración de la interfaz gráfica con Gradio"
      ],
      "metadata": {
        "id": "rMll2cjKXhe9"
      }
    },
    {
      "cell_type": "code",
      "source": [
        "demo = gr.Interface(\n",
        "    fn=interfaz_gradio,\n",
        "    inputs=[\n",
        "        gr.File(file_types=[\".pdf\"], file_count=\"multiple\", label=\"Sube tus archivos PDF\"),\n",
        "        gr.Textbox(label=\"Haz tu pregunta\")\n",
        "    ],\n",
        "    outputs=gr.Textbox(label=\"Respuesta del sistema\"),\n",
        "    title=\"Sistema de Preguntas sobre PDFs\"\n",
        ")\n",
        "\n",
        "modelo_embedding = SentenceTransformer(MODELO_EMBEDDINGS)\n",
        "\n",
        "demo.launch()"
      ],
      "metadata": {
        "colab": {
          "base_uri": "https://localhost:8080/",
          "height": 648
        },
        "id": "DgtU3LsGWrsH",
        "outputId": "0eb38735-d554-4fd1-be92-d581418ad3d8"
      },
      "execution_count": 15,
      "outputs": [
        {
          "output_type": "stream",
          "name": "stdout",
          "text": [
            "It looks like you are running Gradio on a hosted a Jupyter notebook. For the Gradio app to work, sharing must be enabled. Automatically setting `share=True` (you can turn this off by setting `share=False` in `launch()` explicitly).\n",
            "\n",
            "Colab notebook detected. To show errors in colab notebook, set debug=True in launch()\n",
            "* Running on public URL: https://60f572636e265456b6.gradio.live\n",
            "\n",
            "This share link expires in 1 week. For free permanent hosting and GPU upgrades, run `gradio deploy` from the terminal in the working directory to deploy to Hugging Face Spaces (https://huggingface.co/spaces)\n"
          ]
        },
        {
          "output_type": "display_data",
          "data": {
            "text/plain": [
              "<IPython.core.display.HTML object>"
            ],
            "text/html": [
              "<div><iframe src=\"https://60f572636e265456b6.gradio.live\" width=\"100%\" height=\"500\" allow=\"autoplay; camera; microphone; clipboard-read; clipboard-write;\" frameborder=\"0\" allowfullscreen></iframe></div>"
            ]
          },
          "metadata": {}
        },
        {
          "output_type": "execute_result",
          "data": {
            "text/plain": []
          },
          "metadata": {},
          "execution_count": 15
        }
      ]
    },
    {
      "cell_type": "code",
      "source": [],
      "metadata": {
        "id": "GUbL3uj1WrfR"
      },
      "execution_count": null,
      "outputs": []
    }
  ]
}